{
 "cells": [
  {
   "attachments": {},
   "cell_type": "markdown",
   "metadata": {},
   "source": [
    "# Lib import"
   ]
  },
  {
   "cell_type": "code",
   "execution_count": 1,
   "metadata": {},
   "outputs": [],
   "source": [
    "import sys\n",
    "import json\n",
    "import pandas as pd\n",
    "from datasets import load_metric"
   ]
  },
  {
   "attachments": {},
   "cell_type": "markdown",
   "metadata": {},
   "source": [
    "# Load dataset"
   ]
  },
  {
   "cell_type": "code",
   "execution_count": 2,
   "metadata": {},
   "outputs": [],
   "source": [
    "def load_data(dts):\n",
    "    path = f'MuP_dataset/{dts}_complete.jsonl'\n",
    "    try:\n",
    "        with open(path, 'r') as json_file:\n",
    "            json_list = list(json_file)\n",
    "        col_name = [\"paper_id\",\"summary\"]\n",
    "    except:\n",
    "        print(f\"Warning: Did not load dataset from {path}\")\n",
    "        return\n",
    "    summary_df = pd.DataFrame(columns=col_name)\n",
    "    for json_str in json_list[:]:\n",
    "        result = json.loads(json_str)\n",
    "        df = pd.DataFrame([[result[\"paper_id\"], result[\"summary\"]]], columns=col_name)\n",
    "        summary_df = pd.concat([summary_df,df])\n",
    "    return summary_df\n",
    "\n",
    "def split_sum_num(df):\n",
    "    num_paper = df.groupby(['paper_id']).count()\n",
    "    num_paper['num_paper'] = 1\n",
    "    num_paper.groupby(['summary']).count()\n",
    "    num_paper = df.groupby(['paper_id']).count()\n",
    "    num_paper['num_paper'] = 1\n",
    "    num_paper.groupby(['summary']).count()\n",
    "    num_paper.drop('num_paper', inplace=True,axis=1)\n",
    "    num_paper.sort_values([\"summary\"])\n",
    "\n",
    "    df_list = []\n",
    "    for i in range(0, max(num_paper['summary'])):\n",
    "        paper_id = (list((num_paper[num_paper[\"summary\"]==(i+1)]).index))\n",
    "        df_i = df[df.paper_id.isin(paper_id)].sort_values(\"paper_id\")\n",
    "        df_list.append(df_i.groupby('paper_id').apply(lambda df_: df_[['summary']].values.flatten()).apply(pd.Series).reset_index())\n",
    "        \n",
    "    return df_list"
   ]
  },
  {
   "cell_type": "code",
   "execution_count": 3,
   "metadata": {},
   "outputs": [],
   "source": [
    "summary_df = load_data(\"training\")"
   ]
  },
  {
   "cell_type": "code",
   "execution_count": 4,
   "metadata": {},
   "outputs": [],
   "source": [
    "df_list = split_sum_num(summary_df)"
   ]
  },
  {
   "cell_type": "code",
   "execution_count": 5,
   "metadata": {},
   "outputs": [
    {
     "data": {
      "text/html": [
       "<div>\n",
       "<style scoped>\n",
       "    .dataframe tbody tr th:only-of-type {\n",
       "        vertical-align: middle;\n",
       "    }\n",
       "\n",
       "    .dataframe tbody tr th {\n",
       "        vertical-align: top;\n",
       "    }\n",
       "\n",
       "    .dataframe thead th {\n",
       "        text-align: right;\n",
       "    }\n",
       "</style>\n",
       "<table border=\"1\" class=\"dataframe\">\n",
       "  <thead>\n",
       "    <tr style=\"text-align: right;\">\n",
       "      <th></th>\n",
       "      <th>paper_id</th>\n",
       "      <th>0</th>\n",
       "      <th>1</th>\n",
       "      <th>2</th>\n",
       "      <th>3</th>\n",
       "    </tr>\n",
       "  </thead>\n",
       "  <tbody>\n",
       "    <tr>\n",
       "      <th>0</th>\n",
       "      <td>SP:00130f3b3a6b3b71f9b487003a18b43517cacbbb</td>\n",
       "      <td>This work proposes a new method for subgame so...</td>\n",
       "      <td>This paper proposes a novel technique for sear...</td>\n",
       "      <td>The authors develop a new approximation to for...</td>\n",
       "      <td>This paper deals with two related problems. Th...</td>\n",
       "    </tr>\n",
       "    <tr>\n",
       "      <th>1</th>\n",
       "      <td>SP:00215e91570b72ae8202535812037e710e766253</td>\n",
       "      <td>The paper studies continual learning and that ...</td>\n",
       "      <td>The paper learns the binary basis mask for a f...</td>\n",
       "      <td>The paper describes an approach to continual l...</td>\n",
       "      <td>In the current paper, the authors propose a no...</td>\n",
       "    </tr>\n",
       "    <tr>\n",
       "      <th>2</th>\n",
       "      <td>SP:006a99a453b861691e5ea2c02012a2aef44d393e</td>\n",
       "      <td>The paper considers the setting in which a sin...</td>\n",
       "      <td>This paper proposes a single-actor, multi-crit...</td>\n",
       "      <td>This paper proposes to extend the actor-critic...</td>\n",
       "      <td>The paper introduces a variant of actor-critic...</td>\n",
       "    </tr>\n",
       "    <tr>\n",
       "      <th>3</th>\n",
       "      <td>SP:006e9fb3f4bd9fce1b751e6491f93ca9a918b1d0</td>\n",
       "      <td>Summary. Prior works have used auxiliary tasks...</td>\n",
       "      <td>This work proposes random General Value Functi...</td>\n",
       "      <td>Summary -------  Owing to the importance of st...</td>\n",
       "      <td>This paper introduces a new auxiliary task for...</td>\n",
       "    </tr>\n",
       "    <tr>\n",
       "      <th>4</th>\n",
       "      <td>SP:008b937acb21afd5449982967b6daac37b4134ab</td>\n",
       "      <td>This paper studies a relatively little-concern...</td>\n",
       "      <td>This paper studies positive and unlabeled (PU)...</td>\n",
       "      <td>This paper addresses the problem of class-prio...</td>\n",
       "      <td>This paper studies the prior $\\pi$ in PU learn...</td>\n",
       "    </tr>\n",
       "    <tr>\n",
       "      <th>...</th>\n",
       "      <td>...</td>\n",
       "      <td>...</td>\n",
       "      <td>...</td>\n",
       "      <td>...</td>\n",
       "      <td>...</td>\n",
       "    </tr>\n",
       "    <tr>\n",
       "      <th>1108</th>\n",
       "      <td>SP:ff321c62ff012f2a3c4fb02f9ba95daee33636f0</td>\n",
       "      <td>In this work, the authors propose a new featur...</td>\n",
       "      <td>The paper proposes an infinite-width parameter...</td>\n",
       "      <td>The authors study a certain variant of an MLP ...</td>\n",
       "      <td>The paper introduces an approach (named pi-lim...</td>\n",
       "    </tr>\n",
       "    <tr>\n",
       "      <th>1109</th>\n",
       "      <td>SP:ff608359d72b2fd9207c2c8d86282ace1d8b619b</td>\n",
       "      <td>This paper proposes a defense method against p...</td>\n",
       "      <td>This paper studies the problem of certifying a...</td>\n",
       "      <td>This paper studied how to certificate a policy...</td>\n",
       "      <td>This paper proposes a certification method aga...</td>\n",
       "    </tr>\n",
       "    <tr>\n",
       "      <th>1110</th>\n",
       "      <td>SP:ff641ae83dfd806ab9770e37bd824e928c2b06a6</td>\n",
       "      <td>This paper has the following contributions: * ...</td>\n",
       "      <td>This paper introduces a neural network archite...</td>\n",
       "      <td>This paper proposes to use self-attention betw...</td>\n",
       "      <td>Deep parametric models have demonstrated treme...</td>\n",
       "    </tr>\n",
       "    <tr>\n",
       "      <th>1111</th>\n",
       "      <td>SP:ffb273a8ad8895be2fcfa2af3cb2624617304de9</td>\n",
       "      <td>In this paper, the authors propose a novel S...</td>\n",
       "      <td>A method called LaGraph is proposed for semi-s...</td>\n",
       "      <td>The paper proposes a new self-supervised learn...</td>\n",
       "      <td>The authors propose a self-supervised learning...</td>\n",
       "    </tr>\n",
       "    <tr>\n",
       "      <th>1112</th>\n",
       "      <td>SP:ffd382a81da7298be3a1e5fe9dd539cb4c18658b</td>\n",
       "      <td>This paper proposes PoNet, an efficient model ...</td>\n",
       "      <td>In this paper, the authors aim to resolve the ...</td>\n",
       "      <td>This paper proposed PoNet, which is an efficie...</td>\n",
       "      <td>PoNet addresses the quadratic time and memory ...</td>\n",
       "    </tr>\n",
       "  </tbody>\n",
       "</table>\n",
       "<p>1113 rows × 5 columns</p>\n",
       "</div>"
      ],
      "text/plain": [
       "                                         paper_id  \\\n",
       "0     SP:00130f3b3a6b3b71f9b487003a18b43517cacbbb   \n",
       "1     SP:00215e91570b72ae8202535812037e710e766253   \n",
       "2     SP:006a99a453b861691e5ea2c02012a2aef44d393e   \n",
       "3     SP:006e9fb3f4bd9fce1b751e6491f93ca9a918b1d0   \n",
       "4     SP:008b937acb21afd5449982967b6daac37b4134ab   \n",
       "...                                           ...   \n",
       "1108  SP:ff321c62ff012f2a3c4fb02f9ba95daee33636f0   \n",
       "1109  SP:ff608359d72b2fd9207c2c8d86282ace1d8b619b   \n",
       "1110  SP:ff641ae83dfd806ab9770e37bd824e928c2b06a6   \n",
       "1111  SP:ffb273a8ad8895be2fcfa2af3cb2624617304de9   \n",
       "1112  SP:ffd382a81da7298be3a1e5fe9dd539cb4c18658b   \n",
       "\n",
       "                                                      0  \\\n",
       "0     This work proposes a new method for subgame so...   \n",
       "1     The paper studies continual learning and that ...   \n",
       "2     The paper considers the setting in which a sin...   \n",
       "3     Summary. Prior works have used auxiliary tasks...   \n",
       "4     This paper studies a relatively little-concern...   \n",
       "...                                                 ...   \n",
       "1108  In this work, the authors propose a new featur...   \n",
       "1109  This paper proposes a defense method against p...   \n",
       "1110  This paper has the following contributions: * ...   \n",
       "1111    In this paper, the authors propose a novel S...   \n",
       "1112  This paper proposes PoNet, an efficient model ...   \n",
       "\n",
       "                                                      1  \\\n",
       "0     This paper proposes a novel technique for sear...   \n",
       "1     The paper learns the binary basis mask for a f...   \n",
       "2     This paper proposes a single-actor, multi-crit...   \n",
       "3     This work proposes random General Value Functi...   \n",
       "4     This paper studies positive and unlabeled (PU)...   \n",
       "...                                                 ...   \n",
       "1108  The paper proposes an infinite-width parameter...   \n",
       "1109  This paper studies the problem of certifying a...   \n",
       "1110  This paper introduces a neural network archite...   \n",
       "1111  A method called LaGraph is proposed for semi-s...   \n",
       "1112  In this paper, the authors aim to resolve the ...   \n",
       "\n",
       "                                                      2  \\\n",
       "0     The authors develop a new approximation to for...   \n",
       "1     The paper describes an approach to continual l...   \n",
       "2     This paper proposes to extend the actor-critic...   \n",
       "3     Summary -------  Owing to the importance of st...   \n",
       "4     This paper addresses the problem of class-prio...   \n",
       "...                                                 ...   \n",
       "1108  The authors study a certain variant of an MLP ...   \n",
       "1109  This paper studied how to certificate a policy...   \n",
       "1110  This paper proposes to use self-attention betw...   \n",
       "1111  The paper proposes a new self-supervised learn...   \n",
       "1112  This paper proposed PoNet, which is an efficie...   \n",
       "\n",
       "                                                      3  \n",
       "0     This paper deals with two related problems. Th...  \n",
       "1     In the current paper, the authors propose a no...  \n",
       "2     The paper introduces a variant of actor-critic...  \n",
       "3     This paper introduces a new auxiliary task for...  \n",
       "4     This paper studies the prior $\\pi$ in PU learn...  \n",
       "...                                                 ...  \n",
       "1108  The paper introduces an approach (named pi-lim...  \n",
       "1109  This paper proposes a certification method aga...  \n",
       "1110  Deep parametric models have demonstrated treme...  \n",
       "1111  The authors propose a self-supervised learning...  \n",
       "1112  PoNet addresses the quadratic time and memory ...  \n",
       "\n",
       "[1113 rows x 5 columns]"
      ]
     },
     "execution_count": 5,
     "metadata": {},
     "output_type": "execute_result"
    }
   ],
   "source": [
    "df_list[3]"
   ]
  },
  {
   "attachments": {},
   "cell_type": "markdown",
   "metadata": {},
   "source": [
    "# Score calculation"
   ]
  },
  {
   "cell_type": "code",
   "execution_count": 6,
   "metadata": {},
   "outputs": [],
   "source": [
    "from evaluate import load"
   ]
  },
  {
   "cell_type": "code",
   "execution_count": 193,
   "metadata": {},
   "outputs": [],
   "source": [
    "def n_scores(df, subscore_col):\n",
    "    n = len(df.columns)-1\n",
    "    pairs = [f'{i}-{j}' for i in range(n) for j in range(i+1, n)]\n",
    "    col = pd.MultiIndex.from_product([subscore_col, pairs])\n",
    "    scores = pd.DataFrame(columns=col)\n",
    "    scores.insert(0, \"paper_id\", df[\"paper_id\"])\n",
    "    # scores.set_index(\"paper_id\", inplace=True)\n",
    "    return scores"
   ]
  },
  {
   "attachments": {},
   "cell_type": "markdown",
   "metadata": {},
   "source": [
    "## ROUGE Score"
   ]
  },
  {
   "cell_type": "code",
   "execution_count": 195,
   "metadata": {},
   "outputs": [],
   "source": [
    "rougescore = load(\"rouge\")\n",
    "rougescore = load_metric(\"rouge\")\n",
    "\n",
    "def rouge_cal(df):\n",
    "    rouge_list = ['rouge1', 'rouge2', 'rougeL', 'rougeLsum']\n",
    "    score_list = ['precision', 'recall', 'fmeasure']\n",
    "\n",
    "    n = len(df.columns)-1\n",
    "    print(f\"Calculating ROUGE on {n} summaries\")\n",
    "\n",
    "    df_score_dict = {}\n",
    "    mux = pd.MultiIndex.from_product([[\"summary\"],(list(df.columns))[1:]])\n",
    "    df_score = pd.DataFrame(columns=mux)\n",
    "    df_score.insert(0, \"paper_id\", df[\"paper_id\"])\n",
    "    for col in df:\n",
    "        if col != 'paper_id':\n",
    "            df_score[('summary', col)] = df[col]\n",
    "    df_score = df_score.merge(n_scores(df, score_list), left_on='paper_id', right_on='paper_id')\n",
    "    for r in rouge_list:\n",
    "        df_score_dict[r] = df_score\n",
    "\n",
    "    for idx, row in df.iterrows():\n",
    "        for i in range(n):\n",
    "            for j in range(i+1,n):\n",
    "                pair = f'{i}-{j}'\n",
    "                score = rougescore.compute(predictions=[row[i]], references=[row[j]], use_stemmer=False)\n",
    "                for r in rouge_list:\n",
    "                    df_score_dict[r].loc[idx, ('precision', pair)] = ((score[r]).low).precision\n",
    "                    df_score_dict[r].loc[idx, ('recall', pair)] = ((score[r]).low).recall\n",
    "                    df_score_dict[r].loc[idx, ('fmeasure', pair)] = ((score[r]).low).fmeasure\n",
    "\n",
    "    return df_score_dict"
   ]
  },
  {
   "cell_type": "code",
   "execution_count": 197,
   "metadata": {},
   "outputs": [
    {
     "name": "stderr",
     "output_type": "stream",
     "text": [
      "/var/folders/zw/q5kx3f693rgfk0h2y_jgmhnm0000gn/T/ipykernel_26093/1654376357.py:17: PerformanceWarning: dropping on a non-lexsorted multi-index without a level parameter may impact performance.\n",
      "  df_score = df_score.merge(n_scores(df, score_list), left_on='paper_id', right_on='paper_id')\n"
     ]
    },
    {
     "data": {
      "text/html": [
       "<div>\n",
       "<style scoped>\n",
       "    .dataframe tbody tr th:only-of-type {\n",
       "        vertical-align: middle;\n",
       "    }\n",
       "\n",
       "    .dataframe tbody tr th {\n",
       "        vertical-align: top;\n",
       "    }\n",
       "\n",
       "    .dataframe thead tr th {\n",
       "        text-align: left;\n",
       "    }\n",
       "</style>\n",
       "<table border=\"1\" class=\"dataframe\">\n",
       "  <thead>\n",
       "    <tr>\n",
       "      <th></th>\n",
       "      <th>paper_id</th>\n",
       "      <th colspan=\"2\" halign=\"left\">summary</th>\n",
       "      <th>precision</th>\n",
       "      <th>recall</th>\n",
       "      <th>fmeasure</th>\n",
       "    </tr>\n",
       "    <tr>\n",
       "      <th></th>\n",
       "      <th></th>\n",
       "      <th>0</th>\n",
       "      <th>1</th>\n",
       "      <th>0-1</th>\n",
       "      <th>0-1</th>\n",
       "      <th>0-1</th>\n",
       "    </tr>\n",
       "  </thead>\n",
       "  <tbody>\n",
       "    <tr>\n",
       "      <th>0</th>\n",
       "      <td>SP:0007ee9ce7dfaf12a7dff4aa2979403aed9397d7</td>\n",
       "      <td>This paper proposed a novel benchmark for rela...</td>\n",
       "      <td>The paper focuses on the relation extraction t...</td>\n",
       "      <td>0.170213</td>\n",
       "      <td>0.197531</td>\n",
       "      <td>0.182857</td>\n",
       "    </tr>\n",
       "    <tr>\n",
       "      <th>1</th>\n",
       "      <td>SP:001a31f7a439ab22943dedb4fa4d46e3dd56e603</td>\n",
       "      <td>This paper is an interesting exploratory study...</td>\n",
       "      <td>This paper explores learning chess from raw no...</td>\n",
       "      <td>0.292683</td>\n",
       "      <td>0.216216</td>\n",
       "      <td>0.248705</td>\n",
       "    </tr>\n",
       "    <tr>\n",
       "      <th>2</th>\n",
       "      <td>SP:001e57e71bafdb52d6511bdd6aa73b78d60248f2</td>\n",
       "      <td>The manuscript considers the problem of imitat...</td>\n",
       "      <td>The paper proposes an imitation method, I2L, t...</td>\n",
       "      <td>0.15122</td>\n",
       "      <td>0.295238</td>\n",
       "      <td>0.2</td>\n",
       "    </tr>\n",
       "  </tbody>\n",
       "</table>\n",
       "</div>"
      ],
      "text/plain": [
       "                                      paper_id  \\\n",
       "                                                 \n",
       "0  SP:0007ee9ce7dfaf12a7dff4aa2979403aed9397d7   \n",
       "1  SP:001a31f7a439ab22943dedb4fa4d46e3dd56e603   \n",
       "2  SP:001e57e71bafdb52d6511bdd6aa73b78d60248f2   \n",
       "\n",
       "                                             summary  \\\n",
       "                                                   0   \n",
       "0  This paper proposed a novel benchmark for rela...   \n",
       "1  This paper is an interesting exploratory study...   \n",
       "2  The manuscript considers the problem of imitat...   \n",
       "\n",
       "                                                     precision    recall  \\\n",
       "                                                   1       0-1       0-1   \n",
       "0  The paper focuses on the relation extraction t...  0.170213  0.197531   \n",
       "1  This paper explores learning chess from raw no...  0.292683  0.216216   \n",
       "2  The paper proposes an imitation method, I2L, t...   0.15122  0.295238   \n",
       "\n",
       "   fmeasure  \n",
       "        0-1  \n",
       "0  0.182857  \n",
       "1  0.248705  \n",
       "2       0.2  "
      ]
     },
     "execution_count": 197,
     "metadata": {},
     "output_type": "execute_result"
    }
   ],
   "source": [
    "for df in df_list[1:]:\n",
    "    dict_result = rouge_cal(df[:3])\n",
    "    for key, val in dict_result.items():\n",
    "        # print(key, \"\\n\", val)\n",
    "        break\n",
    "    break\n",
    "dict_result['rouge1']"
   ]
  },
  {
   "attachments": {},
   "cell_type": "markdown",
   "metadata": {},
   "source": [
    "## BERT Score"
   ]
  },
  {
   "cell_type": "code",
   "execution_count": 12,
   "metadata": {},
   "outputs": [],
   "source": [
    "bertscore = load(\"bertscore\")\n",
    "def bertscore_cal():\n",
    "    n = len(df_list[3].columns)-1"
   ]
  },
  {
   "cell_type": "code",
   "execution_count": 13,
   "metadata": {},
   "outputs": [
    {
     "name": "stderr",
     "output_type": "stream",
     "text": [
      "/var/folders/zw/q5kx3f693rgfk0h2y_jgmhnm0000gn/T/ipykernel_26093/375734525.py:1: FutureWarning: load_metric is deprecated and will be removed in the next major version of datasets. Use 'evaluate.load' instead, from the new library 🤗 Evaluate: https://huggingface.co/docs/evaluate\n",
      "  rouge_score = load_metric(\"rouge\")\n"
     ]
    }
   ],
   "source": [
    "rouge_score = load_metric(\"rouge\")\n",
    "sumaries = [\"Hello world\", \"Hello friend\"]\n",
    "score = rouge_score.compute(\n",
    "        predictions=[sumaries[0]], references=[sumaries[1]], use_stemmer=False\n",
    "    )"
   ]
  },
  {
   "cell_type": "code",
   "execution_count": 44,
   "metadata": {},
   "outputs": [
    {
     "data": {
      "text/plain": [
       "{'rouge1': AggregateScore(low=Score(precision=0.5, recall=0.5, fmeasure=0.5), mid=Score(precision=0.5, recall=0.5, fmeasure=0.5), high=Score(precision=0.5, recall=0.5, fmeasure=0.5)),\n",
       " 'rouge2': AggregateScore(low=Score(precision=0.0, recall=0.0, fmeasure=0.0), mid=Score(precision=0.0, recall=0.0, fmeasure=0.0), high=Score(precision=0.0, recall=0.0, fmeasure=0.0)),\n",
       " 'rougeL': AggregateScore(low=Score(precision=0.5, recall=0.5, fmeasure=0.5), mid=Score(precision=0.5, recall=0.5, fmeasure=0.5), high=Score(precision=0.5, recall=0.5, fmeasure=0.5)),\n",
       " 'rougeLsum': AggregateScore(low=Score(precision=0.5, recall=0.5, fmeasure=0.5), mid=Score(precision=0.5, recall=0.5, fmeasure=0.5), high=Score(precision=0.5, recall=0.5, fmeasure=0.5))}"
      ]
     },
     "execution_count": 44,
     "metadata": {},
     "output_type": "execute_result"
    }
   ],
   "source": [
    "score"
   ]
  },
  {
   "cell_type": "code",
   "execution_count": 159,
   "metadata": {},
   "outputs": [
    {
     "data": {
      "text/plain": [
       "0.5"
      ]
     },
     "execution_count": 159,
     "metadata": {},
     "output_type": "execute_result"
    }
   ],
   "source": [
    "((score['rouge1']).low).precision"
   ]
  },
  {
   "cell_type": "code",
   "execution_count": null,
   "metadata": {},
   "outputs": [],
   "source": []
  }
 ],
 "metadata": {
  "kernelspec": {
   "display_name": "Python 3",
   "language": "python",
   "name": "python3"
  },
  "language_info": {
   "codemirror_mode": {
    "name": "ipython",
    "version": 3
   },
   "file_extension": ".py",
   "mimetype": "text/x-python",
   "name": "python",
   "nbconvert_exporter": "python",
   "pygments_lexer": "ipython3",
   "version": "3.8.15"
  },
  "orig_nbformat": 4,
  "vscode": {
   "interpreter": {
    "hash": "c41a15a33a59f0eeae9566b7a824606ae2e90e5c5eb8240ec6145ee367642a6c"
   }
  }
 },
 "nbformat": 4,
 "nbformat_minor": 2
}

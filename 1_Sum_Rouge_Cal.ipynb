{
 "cells": [
  {
   "cell_type": "code",
   "execution_count": null,
   "metadata": {},
   "outputs": [],
   "source": [
    "import sys\n",
    "import json\n",
    "import pandas as pd\n",
    "from datasets import load_metric"
   ]
  },
  {
   "cell_type": "code",
   "execution_count": null,
   "metadata": {},
   "outputs": [],
   "source": [
    "# dts = \"training\"\n",
    "dts = \"validation\"\n",
    "path = 'MuP_dataset/'+dts+'_complete.jsonl'\n",
    "with open(path, 'r') as json_file:\n",
    "    json_list = list(json_file)"
   ]
  },
  {
   "cell_type": "code",
   "execution_count": null,
   "metadata": {},
   "outputs": [],
   "source": [
    "print(type(json_list))\n",
    "print(len(json_list))"
   ]
  },
  {
   "cell_type": "code",
   "execution_count": null,
   "metadata": {},
   "outputs": [],
   "source": [
    "i = 0\n",
    "for json_str in json_list:\n",
    "    result = json.loads(json_str)\n",
    "    # print(f\"result: {result}\")\n",
    "    i += 1\n",
    "    n=30\n",
    "    if i<n and i >= n-5:\n",
    "        print(isinstance(result, dict))\n",
    "        # print(len(result))\n",
    "        # print(result.keys())\n",
    "        print(result[\"summary\"])\n",
    "    if i>n:\n",
    "        break"
   ]
  },
  {
   "cell_type": "code",
   "execution_count": null,
   "metadata": {},
   "outputs": [],
   "source": [
    "col_name = [\"paper_id\",\"summary\"]\n",
    "summary_df = pd.DataFrame(columns=col_name)\n",
    "for json_str in json_list:\n",
    "    result = json.loads(json_str)\n",
    "    df = pd.DataFrame([[result[\"paper_id\"], result[\"summary\"]]], columns=col_name)\n",
    "    summary_df = pd.concat([summary_df,df])\n",
    "summary_df"
   ]
  },
  {
   "cell_type": "code",
   "execution_count": null,
   "metadata": {},
   "outputs": [],
   "source": [
    "num_paper = summary_df.groupby(['paper_id']).count()\n",
    "num_paper['num_paper'] = 1\n",
    "num_paper.groupby(['summary']).count()"
   ]
  },
  {
   "cell_type": "code",
   "execution_count": null,
   "metadata": {},
   "outputs": [],
   "source": [
    "num_paper.drop('num_paper', inplace=True,axis=1)\n",
    "num_paper.sort_values([\"summary\"])"
   ]
  },
  {
   "cell_type": "code",
   "execution_count": null,
   "metadata": {},
   "outputs": [],
   "source": [
    "list_paper_id = []\n",
    "for i in range(1, max(num_paper['summary'])+1):\n",
    "    list_paper_id.append(list((num_paper[num_paper[\"summary\"]==i]).index))\n",
    "for id in list_paper_id:\n",
    "    print(len(id))"
   ]
  },
  {
   "cell_type": "code",
   "execution_count": null,
   "metadata": {},
   "outputs": [],
   "source": [
    "df_list = []\n",
    "for i in range(len(list_paper_id)):\n",
    "    df_list.append(summary_df[summary_df.paper_id.isin(list_paper_id[i])].sort_values(\"paper_id\"))\n",
    "df_list[1][:20]"
   ]
  },
  {
   "cell_type": "markdown",
   "metadata": {},
   "source": [
    "## 2 Summaries"
   ]
  },
  {
   "cell_type": "code",
   "execution_count": null,
   "metadata": {},
   "outputs": [],
   "source": [
    "rouge_score = load_metric(\"rouge\")"
   ]
  },
  {
   "cell_type": "code",
   "execution_count": null,
   "metadata": {},
   "outputs": [],
   "source": [
    "# df_sum2 = df_list[1]\n",
    "# score_col = [\"paper_id\", \"R1-F1\", \"R2-F1\", \"RL-F1\", \"RLsum-F1\"]\n",
    "# df_score2 = pd.DataFrame(columns=score_col)\n",
    "# for id in list_paper_id[1]:\n",
    "#     sumaries = list(df_list[1][df_list[1][\"paper_id\"]==id][\"summary\"])\n",
    "#     score = rouge_score.compute(\n",
    "#         predictions=[sumaries[0]], references=[sumaries[1]], use_stemmer=False\n",
    "#     )\n",
    "#     df_score2 = pd.concat([df_score2, pd.DataFrame(\n",
    "#         [[\n",
    "#             id,\n",
    "#             score['rouge1'][0][2],\n",
    "#             score['rouge2'][0][2],\n",
    "#             score['rougeL'][0][2],\n",
    "#             score['rougeLsum'][0][2]\n",
    "#         ]], \n",
    "#         columns=score_col)])\n",
    "# df_score2"
   ]
  },
  {
   "cell_type": "code",
   "execution_count": null,
   "metadata": {},
   "outputs": [],
   "source": [
    "# df_score2.min()"
   ]
  },
  {
   "cell_type": "code",
   "execution_count": null,
   "metadata": {},
   "outputs": [],
   "source": [
    "# df_score2.to_csv(\"visualization_data/\"+dts+\"_rouge_2sum.csv\")"
   ]
  },
  {
   "attachments": {},
   "cell_type": "markdown",
   "metadata": {},
   "source": [
    "## Multi Summaries"
   ]
  },
  {
   "cell_type": "code",
   "execution_count": null,
   "metadata": {},
   "outputs": [],
   "source": [
    "def n_scores(n):\n",
    "    pairs = []\n",
    "    for i in range(n):\n",
    "        for j in range (i+1,n):\n",
    "            pairs.append(str(i+1)+\"-\"+str(j+1))\n",
    "    col = pd.MultiIndex.from_product([[\"R1-F1\", \"R2-F1\", \"RL-F1\", \"RLsum-F1\"], pairs])\n",
    "    scores = pd.DataFrame(columns=col)\n",
    "    scores.insert(0, \"paper_id\", list_paper_id[n-1])\n",
    "    scores.set_index(\"paper_id\", inplace=True)\n",
    "    return scores\n",
    "# n_scores(3).head()"
   ]
  },
  {
   "cell_type": "code",
   "execution_count": null,
   "metadata": {},
   "outputs": [],
   "source": [
    "def rouge_cal(n):\n",
    "    df_scores = n_scores(n)\n",
    "    for num_id,id in enumerate(list_paper_id[n-1]):\n",
    "        sumaries = list(df_list[n-1][df_list[n-1][\"paper_id\"]==id][\"summary\"])\n",
    "        sys.stdout.write(\"\\r\" + str(num_id) + \"/\" + str(len(list_paper_id[n-1])))\n",
    "        sys.stdout.flush()\n",
    "        # print(id,\"/\",len(list_paper_id[n-1]), flush=True)\n",
    "        for i in range(n):\n",
    "            for j in range(i+1,n):\n",
    "                score = rouge_score.compute(\n",
    "                    predictions=[sumaries[i]], references=[sumaries[j]], use_stemmer=False\n",
    "                )\n",
    "                pair = str(i+1)+\"-\"+str(j+1)\n",
    "                df_scores.loc[id]['R1'][pair] = score['rouge1'][0][2]\n",
    "                df_scores.loc[id]['R2'][pair] = score['rouge2'][0][2]\n",
    "                df_scores.loc[id]['RL'][pair] = score['rougeL'][0][2]\n",
    "                df_scores.loc[id]['RLsum'][pair] = score['rougeLsum'][0][2]\n",
    "                # break\n",
    "            # break\n",
    "        # break\n",
    "    # df_score2\n",
    "    # len(list_paper_id)\n",
    "    return df_scores"
   ]
  },
  {
   "cell_type": "code",
   "execution_count": null,
   "metadata": {},
   "outputs": [],
   "source": [
    "for n in range(3,len(list_paper_id)):\n",
    "    n = 4\n",
    "    print(\"Calculating ROUGE on\", n, \"summaries\")\n",
    "    df_scores = rouge_cal(n)\n",
    "    df_scores.to_csv(\"visualization_data/\"+dts+\"_rouge_\"+str(n)+\"sum.csv\")\n",
    "    break"
   ]
  },
  {
   "cell_type": "code",
   "execution_count": null,
   "metadata": {},
   "outputs": [],
   "source": []
  },
  {
   "cell_type": "code",
   "execution_count": null,
   "metadata": {},
   "outputs": [],
   "source": []
  }
 ],
 "metadata": {
  "kernelspec": {
   "display_name": "Python 3.8.15 ('nlp_vis')",
   "language": "python",
   "name": "python3"
  },
  "language_info": {
   "codemirror_mode": {
    "name": "ipython",
    "version": 3
   },
   "file_extension": ".py",
   "mimetype": "text/x-python",
   "name": "python",
   "nbconvert_exporter": "python",
   "pygments_lexer": "ipython3",
   "version": "3.8.15 (default, Nov 24 2022, 09:04:07) \n[Clang 14.0.6 ]"
  },
  "orig_nbformat": 4,
  "vscode": {
   "interpreter": {
    "hash": "c41a15a33a59f0eeae9566b7a824606ae2e90e5c5eb8240ec6145ee367642a6c"
   }
  }
 },
 "nbformat": 4,
 "nbformat_minor": 2
}

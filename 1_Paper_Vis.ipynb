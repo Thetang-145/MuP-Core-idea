{
 "cells": [
  {
   "cell_type": "code",
   "execution_count": 1,
   "metadata": {},
   "outputs": [],
   "source": [
    "import sys\n",
    "import json\n",
    "import pandas as pd\n",
    "import matplotlib.pyplot as plt"
   ]
  },
  {
   "cell_type": "code",
   "execution_count": 2,
   "metadata": {},
   "outputs": [
    {
     "data": {
      "text/plain": [
       "dict_keys(['abstractText', 'authors', 'id', 'references', 'sections', 'year'])"
      ]
     },
     "execution_count": 2,
     "metadata": {},
     "output_type": "execute_result"
    }
   ],
   "source": [
    "dts = \"training\"\n",
    "path = 'MuP_dataset/'+dts+'_complete.jsonl'\n",
    "with open(path, 'r') as json_file:\n",
    "    json_list = list(json_file)\n",
    "    col_name = [\"paper_id\",\"summary\"]\n",
    "summary_df = pd.DataFrame(columns=col_name)\n",
    "for json_str in json_list:\n",
    "    result = json.loads(json_str)\n",
    "    df = pd.DataFrame([[result[\"paper_id\"], result[\"summary\"]]], columns=col_name)\n",
    "    summary_df = pd.concat([summary_df,df])\n",
    "    break\n",
    "(result['paper']).keys()"
   ]
  },
  {
   "cell_type": "code",
   "execution_count": 3,
   "metadata": {},
   "outputs": [
    {
     "name": "stdout",
     "output_type": "stream",
     "text": [
      "1 INTRODUCTION\n",
      "2 STATISTICAL LEARNING AND EMPIRICAL RISK MINIMIZATION\n",
      "2.1 KERNEL LEAST SQUARES AND MINIMUM NORM SOLUTION\n",
      "3 ERROR BOUNDS VIA STABILITY\n",
      "4.1 KEY LEMMAS\n",
      "4.2 PROOF OF LEMMA 11\n",
      "5 REMARK AND RELATED WORK\n",
      "6 CONCLUSIONS\n",
      "A EXCESS RISK, GENERALIZATION, AND STABILITY\n"
     ]
    }
   ],
   "source": [
    "for txt in (result['paper']['sections']):\n",
    "    print(txt['heading'])"
   ]
  }
 ],
 "metadata": {
  "kernelspec": {
   "display_name": "Python 3",
   "language": "python",
   "name": "python3"
  },
  "language_info": {
   "codemirror_mode": {
    "name": "ipython",
    "version": 3
   },
   "file_extension": ".py",
   "mimetype": "text/x-python",
   "name": "python",
   "nbconvert_exporter": "python",
   "pygments_lexer": "ipython3",
   "version": "3.8.15 (default, Nov 24 2022, 09:04:07) \n[Clang 14.0.6 ]"
  },
  "orig_nbformat": 4,
  "vscode": {
   "interpreter": {
    "hash": "c41a15a33a59f0eeae9566b7a824606ae2e90e5c5eb8240ec6145ee367642a6c"
   }
  }
 },
 "nbformat": 4,
 "nbformat_minor": 2
}

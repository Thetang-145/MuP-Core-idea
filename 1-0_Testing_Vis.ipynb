{
 "cells": [
  {
   "cell_type": "code",
   "execution_count": 53,
   "metadata": {},
   "outputs": [],
   "source": [
    "import sys\n",
    "import json\n",
    "import pandas as pd\n",
    "import matplotlib.pyplot as plt"
   ]
  },
  {
   "cell_type": "code",
   "execution_count": 54,
   "metadata": {},
   "outputs": [
    {
     "data": {
      "text/plain": [
       "dict_keys(['paper_id', 'summary', 'paper'])"
      ]
     },
     "execution_count": 54,
     "metadata": {},
     "output_type": "execute_result"
    }
   ],
   "source": [
    "path = 'MuP_dataset/testing_with_paper_release.jsonl'\n",
    "with open(path, 'r') as json_file:\n",
    "    json_list = list(json_file)\n",
    "    col_name = [\"paper_id\",\"summary\"]\n",
    "summary_df = pd.DataFrame(columns=col_name)\n",
    "for json_str in json_list:\n",
    "    result = json.loads(json_str)\n",
    "    df = pd.DataFrame([[result[\"paper_id\"], result[\"summary\"]]], columns=col_name)\n",
    "    summary_df = pd.concat([summary_df,df])\n",
    "    # break\n",
    "(result['paper']).keys()\n",
    "result.keys()"
   ]
  },
  {
   "cell_type": "code",
   "execution_count": 55,
   "metadata": {},
   "outputs": [
    {
     "data": {
      "text/plain": [
       "'SP:c70479b2096a52584b242de58272ca8d8565feea'"
      ]
     },
     "execution_count": 55,
     "metadata": {},
     "output_type": "execute_result"
    }
   ],
   "source": [
    "result['paper_id']"
   ]
  },
  {
   "cell_type": "code",
   "execution_count": 56,
   "metadata": {},
   "outputs": [
    {
     "data": {
      "text/html": [
       "<div>\n",
       "<style scoped>\n",
       "    .dataframe tbody tr th:only-of-type {\n",
       "        vertical-align: middle;\n",
       "    }\n",
       "\n",
       "    .dataframe tbody tr th {\n",
       "        vertical-align: top;\n",
       "    }\n",
       "\n",
       "    .dataframe thead th {\n",
       "        text-align: right;\n",
       "    }\n",
       "</style>\n",
       "<table border=\"1\" class=\"dataframe\">\n",
       "  <thead>\n",
       "    <tr style=\"text-align: right;\">\n",
       "      <th></th>\n",
       "      <th>paper_id</th>\n",
       "    </tr>\n",
       "  </thead>\n",
       "  <tbody>\n",
       "    <tr>\n",
       "      <th>0</th>\n",
       "      <td>SP:b19df5243359791fbaad005d6f13d7e9fdb0ff63</td>\n",
       "    </tr>\n",
       "    <tr>\n",
       "      <th>0</th>\n",
       "      <td>SP:b19df5243359791fbaad005d6f13d7e9fdb0ff63</td>\n",
       "    </tr>\n",
       "    <tr>\n",
       "      <th>0</th>\n",
       "      <td>SP:b19df5243359791fbaad005d6f13d7e9fdb0ff63</td>\n",
       "    </tr>\n",
       "    <tr>\n",
       "      <th>0</th>\n",
       "      <td>SP:7deb61890d97422a0fe141ca807f968c70ab239a</td>\n",
       "    </tr>\n",
       "    <tr>\n",
       "      <th>0</th>\n",
       "      <td>SP:7deb61890d97422a0fe141ca807f968c70ab239a</td>\n",
       "    </tr>\n",
       "    <tr>\n",
       "      <th>...</th>\n",
       "      <td>...</td>\n",
       "    </tr>\n",
       "    <tr>\n",
       "      <th>0</th>\n",
       "      <td>SP:86c61a658d07ab86e2d84cef7e480bf7a06e4ddb</td>\n",
       "    </tr>\n",
       "    <tr>\n",
       "      <th>0</th>\n",
       "      <td>SP:c70479b2096a52584b242de58272ca8d8565feea</td>\n",
       "    </tr>\n",
       "    <tr>\n",
       "      <th>0</th>\n",
       "      <td>SP:c70479b2096a52584b242de58272ca8d8565feea</td>\n",
       "    </tr>\n",
       "    <tr>\n",
       "      <th>0</th>\n",
       "      <td>SP:c70479b2096a52584b242de58272ca8d8565feea</td>\n",
       "    </tr>\n",
       "    <tr>\n",
       "      <th>0</th>\n",
       "      <td>SP:c70479b2096a52584b242de58272ca8d8565feea</td>\n",
       "    </tr>\n",
       "  </tbody>\n",
       "</table>\n",
       "<p>4611 rows × 1 columns</p>\n",
       "</div>"
      ],
      "text/plain": [
       "                                       paper_id\n",
       "0   SP:b19df5243359791fbaad005d6f13d7e9fdb0ff63\n",
       "0   SP:b19df5243359791fbaad005d6f13d7e9fdb0ff63\n",
       "0   SP:b19df5243359791fbaad005d6f13d7e9fdb0ff63\n",
       "0   SP:7deb61890d97422a0fe141ca807f968c70ab239a\n",
       "0   SP:7deb61890d97422a0fe141ca807f968c70ab239a\n",
       "..                                          ...\n",
       "0   SP:86c61a658d07ab86e2d84cef7e480bf7a06e4ddb\n",
       "0   SP:c70479b2096a52584b242de58272ca8d8565feea\n",
       "0   SP:c70479b2096a52584b242de58272ca8d8565feea\n",
       "0   SP:c70479b2096a52584b242de58272ca8d8565feea\n",
       "0   SP:c70479b2096a52584b242de58272ca8d8565feea\n",
       "\n",
       "[4611 rows x 1 columns]"
      ]
     },
     "execution_count": 56,
     "metadata": {},
     "output_type": "execute_result"
    }
   ],
   "source": [
    "summary_df.drop([\"summary\"], inplace=True, axis=1)\n",
    "summary_df"
   ]
  },
  {
   "cell_type": "code",
   "execution_count": 57,
   "metadata": {},
   "outputs": [
    {
     "data": {
      "text/html": [
       "<div>\n",
       "<style scoped>\n",
       "    .dataframe tbody tr th:only-of-type {\n",
       "        vertical-align: middle;\n",
       "    }\n",
       "\n",
       "    .dataframe tbody tr th {\n",
       "        vertical-align: top;\n",
       "    }\n",
       "\n",
       "    .dataframe thead th {\n",
       "        text-align: right;\n",
       "    }\n",
       "</style>\n",
       "<table border=\"1\" class=\"dataframe\">\n",
       "  <thead>\n",
       "    <tr style=\"text-align: right;\">\n",
       "      <th></th>\n",
       "      <th>paper_id</th>\n",
       "    </tr>\n",
       "  </thead>\n",
       "  <tbody>\n",
       "    <tr>\n",
       "      <th>0</th>\n",
       "      <td>SP:b19df5243359791fbaad005d6f13d7e9fdb0ff63</td>\n",
       "    </tr>\n",
       "    <tr>\n",
       "      <th>1</th>\n",
       "      <td>SP:b19df5243359791fbaad005d6f13d7e9fdb0ff63</td>\n",
       "    </tr>\n",
       "    <tr>\n",
       "      <th>2</th>\n",
       "      <td>SP:b19df5243359791fbaad005d6f13d7e9fdb0ff63</td>\n",
       "    </tr>\n",
       "    <tr>\n",
       "      <th>3</th>\n",
       "      <td>SP:7deb61890d97422a0fe141ca807f968c70ab239a</td>\n",
       "    </tr>\n",
       "    <tr>\n",
       "      <th>4</th>\n",
       "      <td>SP:7deb61890d97422a0fe141ca807f968c70ab239a</td>\n",
       "    </tr>\n",
       "    <tr>\n",
       "      <th>...</th>\n",
       "      <td>...</td>\n",
       "    </tr>\n",
       "    <tr>\n",
       "      <th>4606</th>\n",
       "      <td>SP:86c61a658d07ab86e2d84cef7e480bf7a06e4ddb</td>\n",
       "    </tr>\n",
       "    <tr>\n",
       "      <th>4607</th>\n",
       "      <td>SP:c70479b2096a52584b242de58272ca8d8565feea</td>\n",
       "    </tr>\n",
       "    <tr>\n",
       "      <th>4608</th>\n",
       "      <td>SP:c70479b2096a52584b242de58272ca8d8565feea</td>\n",
       "    </tr>\n",
       "    <tr>\n",
       "      <th>4609</th>\n",
       "      <td>SP:c70479b2096a52584b242de58272ca8d8565feea</td>\n",
       "    </tr>\n",
       "    <tr>\n",
       "      <th>4610</th>\n",
       "      <td>SP:c70479b2096a52584b242de58272ca8d8565feea</td>\n",
       "    </tr>\n",
       "  </tbody>\n",
       "</table>\n",
       "<p>4611 rows × 1 columns</p>\n",
       "</div>"
      ],
      "text/plain": [
       "                                         paper_id\n",
       "0     SP:b19df5243359791fbaad005d6f13d7e9fdb0ff63\n",
       "1     SP:b19df5243359791fbaad005d6f13d7e9fdb0ff63\n",
       "2     SP:b19df5243359791fbaad005d6f13d7e9fdb0ff63\n",
       "3     SP:7deb61890d97422a0fe141ca807f968c70ab239a\n",
       "4     SP:7deb61890d97422a0fe141ca807f968c70ab239a\n",
       "...                                           ...\n",
       "4606  SP:86c61a658d07ab86e2d84cef7e480bf7a06e4ddb\n",
       "4607  SP:c70479b2096a52584b242de58272ca8d8565feea\n",
       "4608  SP:c70479b2096a52584b242de58272ca8d8565feea\n",
       "4609  SP:c70479b2096a52584b242de58272ca8d8565feea\n",
       "4610  SP:c70479b2096a52584b242de58272ca8d8565feea\n",
       "\n",
       "[4611 rows x 1 columns]"
      ]
     },
     "execution_count": 57,
     "metadata": {},
     "output_type": "execute_result"
    }
   ],
   "source": [
    "summary_df.reset_index(drop=True, inplace=True)\n",
    "summary_df"
   ]
  },
  {
   "cell_type": "code",
   "execution_count": 59,
   "metadata": {},
   "outputs": [
    {
     "data": {
      "text/html": [
       "<div>\n",
       "<style scoped>\n",
       "    .dataframe tbody tr th:only-of-type {\n",
       "        vertical-align: middle;\n",
       "    }\n",
       "\n",
       "    .dataframe tbody tr th {\n",
       "        vertical-align: top;\n",
       "    }\n",
       "\n",
       "    .dataframe thead th {\n",
       "        text-align: right;\n",
       "    }\n",
       "</style>\n",
       "<table border=\"1\" class=\"dataframe\">\n",
       "  <thead>\n",
       "    <tr style=\"text-align: right;\">\n",
       "      <th></th>\n",
       "      <th>paper_id</th>\n",
       "      <th>duplicated</th>\n",
       "    </tr>\n",
       "  </thead>\n",
       "  <tbody>\n",
       "    <tr>\n",
       "      <th>0</th>\n",
       "      <td>SP:da4f21d107a7f442c4d3e3ec13bdb44b041e07cf</td>\n",
       "      <td>10</td>\n",
       "    </tr>\n",
       "    <tr>\n",
       "      <th>1</th>\n",
       "      <td>SP:c731a78c3e7f98ccd0253b51a0d42bf8deeb71f9</td>\n",
       "      <td>9</td>\n",
       "    </tr>\n",
       "    <tr>\n",
       "      <th>2</th>\n",
       "      <td>SP:5bb42b178b0d27da271bfa60e633fdac718638c4</td>\n",
       "      <td>9</td>\n",
       "    </tr>\n",
       "    <tr>\n",
       "      <th>3</th>\n",
       "      <td>SP:f32eddbb5c33a8422c075579ff08aa9833338d44</td>\n",
       "      <td>9</td>\n",
       "    </tr>\n",
       "    <tr>\n",
       "      <th>4</th>\n",
       "      <td>SP:af08109d4c45dc9401efb0e63c22167e9da28adb</td>\n",
       "      <td>9</td>\n",
       "    </tr>\n",
       "    <tr>\n",
       "      <th>...</th>\n",
       "      <td>...</td>\n",
       "      <td>...</td>\n",
       "    </tr>\n",
       "    <tr>\n",
       "      <th>1047</th>\n",
       "      <td>SP:7842bbe0e2324cfd732db8745550733ccc3dfcdc</td>\n",
       "      <td>3</td>\n",
       "    </tr>\n",
       "    <tr>\n",
       "      <th>1048</th>\n",
       "      <td>SP:b70ceead1bf6c7dc684c74501716e7012b891022</td>\n",
       "      <td>3</td>\n",
       "    </tr>\n",
       "    <tr>\n",
       "      <th>1049</th>\n",
       "      <td>SP:b6ddc3a560aa7155e7e927bf5360bedc36586597</td>\n",
       "      <td>3</td>\n",
       "    </tr>\n",
       "    <tr>\n",
       "      <th>1050</th>\n",
       "      <td>SP:788fd2b6956dd69bf7752d39ea21883947128c8a</td>\n",
       "      <td>3</td>\n",
       "    </tr>\n",
       "    <tr>\n",
       "      <th>1051</th>\n",
       "      <td>SP:c7e0b3fedc0d0409d662dd612b529fdacad2b03e</td>\n",
       "      <td>3</td>\n",
       "    </tr>\n",
       "  </tbody>\n",
       "</table>\n",
       "<p>1052 rows × 2 columns</p>\n",
       "</div>"
      ],
      "text/plain": [
       "                                         paper_id  duplicated\n",
       "0     SP:da4f21d107a7f442c4d3e3ec13bdb44b041e07cf          10\n",
       "1     SP:c731a78c3e7f98ccd0253b51a0d42bf8deeb71f9           9\n",
       "2     SP:5bb42b178b0d27da271bfa60e633fdac718638c4           9\n",
       "3     SP:f32eddbb5c33a8422c075579ff08aa9833338d44           9\n",
       "4     SP:af08109d4c45dc9401efb0e63c22167e9da28adb           9\n",
       "...                                           ...         ...\n",
       "1047  SP:7842bbe0e2324cfd732db8745550733ccc3dfcdc           3\n",
       "1048  SP:b70ceead1bf6c7dc684c74501716e7012b891022           3\n",
       "1049  SP:b6ddc3a560aa7155e7e927bf5360bedc36586597           3\n",
       "1050  SP:788fd2b6956dd69bf7752d39ea21883947128c8a           3\n",
       "1051  SP:c7e0b3fedc0d0409d662dd612b529fdacad2b03e           3\n",
       "\n",
       "[1052 rows x 2 columns]"
      ]
     },
     "execution_count": 59,
     "metadata": {},
     "output_type": "execute_result"
    }
   ],
   "source": [
    "df_test = pd.DataFrame(summary_df.groupby([\"paper_id\"])[\"paper_id\"].count())\n",
    "df_test.columns = [\"duplicated\"]\n",
    "df_test.reset_index(inplace=True)\n",
    "df_test.sort_values('duplicated', ascending=False, inplace=True)\n",
    "df_test.reset_index(drop=True, inplace=True)\n",
    "df_test"
   ]
  },
  {
   "cell_type": "code",
   "execution_count": 61,
   "metadata": {},
   "outputs": [
    {
     "data": {
      "text/html": [
       "<div>\n",
       "<style scoped>\n",
       "    .dataframe tbody tr th:only-of-type {\n",
       "        vertical-align: middle;\n",
       "    }\n",
       "\n",
       "    .dataframe tbody tr th {\n",
       "        vertical-align: top;\n",
       "    }\n",
       "\n",
       "    .dataframe thead th {\n",
       "        text-align: right;\n",
       "    }\n",
       "</style>\n",
       "<table border=\"1\" class=\"dataframe\">\n",
       "  <thead>\n",
       "    <tr style=\"text-align: right;\">\n",
       "      <th></th>\n",
       "      <th>duplicated</th>\n",
       "      <th>papers</th>\n",
       "    </tr>\n",
       "  </thead>\n",
       "  <tbody>\n",
       "    <tr>\n",
       "      <th>0</th>\n",
       "      <td>3</td>\n",
       "      <td>399</td>\n",
       "    </tr>\n",
       "    <tr>\n",
       "      <th>1</th>\n",
       "      <td>4</td>\n",
       "      <td>304</td>\n",
       "    </tr>\n",
       "    <tr>\n",
       "      <th>2</th>\n",
       "      <td>5</td>\n",
       "      <td>111</td>\n",
       "    </tr>\n",
       "    <tr>\n",
       "      <th>3</th>\n",
       "      <td>6</td>\n",
       "      <td>98</td>\n",
       "    </tr>\n",
       "    <tr>\n",
       "      <th>4</th>\n",
       "      <td>7</td>\n",
       "      <td>79</td>\n",
       "    </tr>\n",
       "    <tr>\n",
       "      <th>5</th>\n",
       "      <td>8</td>\n",
       "      <td>48</td>\n",
       "    </tr>\n",
       "    <tr>\n",
       "      <th>6</th>\n",
       "      <td>9</td>\n",
       "      <td>12</td>\n",
       "    </tr>\n",
       "    <tr>\n",
       "      <th>7</th>\n",
       "      <td>10</td>\n",
       "      <td>1</td>\n",
       "    </tr>\n",
       "  </tbody>\n",
       "</table>\n",
       "</div>"
      ],
      "text/plain": [
       "   duplicated  papers\n",
       "0           3     399\n",
       "1           4     304\n",
       "2           5     111\n",
       "3           6      98\n",
       "4           7      79\n",
       "5           8      48\n",
       "6           9      12\n",
       "7          10       1"
      ]
     },
     "execution_count": 61,
     "metadata": {},
     "output_type": "execute_result"
    }
   ],
   "source": [
    "df_test_number = pd.DataFrame(df_test.groupby([\"duplicated\"])[\"duplicated\"].count())\n",
    "df_test_number.columns = [\"papers\"]\n",
    "# df_test_number.set_index = [\"duplicated_paper\"]\n",
    "df_test_number.reset_index(inplace=True)\n",
    "# df_test_number.columns = [\"summaries\", \"summaries\"]\n",
    "df_test_number"
   ]
  },
  {
   "cell_type": "code",
   "execution_count": 65,
   "metadata": {},
   "outputs": [
    {
     "data": {
      "text/plain": [
       "<AxesSubplot: xlabel='duplicated'>"
      ]
     },
     "execution_count": 65,
     "metadata": {},
     "output_type": "execute_result"
    },
    {
     "data": {
      "image/png": "[encoded data removed]",
      "text/plain": [
       "<Figure size 640x480 with 1 Axes>"
      ]
     },
     "metadata": {},
     "output_type": "display_data"
    }
   ],
   "source": [
    "fig, ax = plt.subplots()\n",
    "df_test_number.plot.bar(x=\"duplicated\", ax=ax)\n",
    "# ax.legend(False)"
   ]
  },
  {
   "cell_type": "code",
   "execution_count": null,
   "metadata": {},
   "outputs": [],
   "source": []
  }
 ],
 "metadata": {
  "kernelspec": {
   "display_name": "Python 3",
   "language": "python",
   "name": "python3"
  },
  "language_info": {
   "codemirror_mode": {
    "name": "ipython",
    "version": 3
   },
   "file_extension": ".py",
   "mimetype": "text/x-python",
   "name": "python",
   "nbconvert_exporter": "python",
   "pygments_lexer": "ipython3",
   "version": "3.8.15 (default, Nov 24 2022, 09:04:07) \n[Clang 14.0.6 ]"
  },
  "orig_nbformat": 4,
  "vscode": {
   "interpreter": {
    "hash": "c41a15a33a59f0eeae9566b7a824606ae2e90e5c5eb8240ec6145ee367642a6c"
   }
  }
 },
 "nbformat": 4,
 "nbformat_minor": 2
}
